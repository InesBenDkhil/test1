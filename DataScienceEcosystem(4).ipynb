{
 "cells": [
  {
   "cell_type": "markdown",
   "id": "752b816e",
   "metadata": {},
   "source": [
    "# Data Science Tools and Ecosystem"
   ]
  },
  {
   "cell_type": "markdown",
   "id": "2a5172b2",
   "metadata": {},
   "source": [
    "## Exercise 1: Create a Jupyter Notebook"
   ]
  },
  {
   "cell_type": "markdown",
   "id": "fd511082",
   "metadata": {},
   "source": [
    "## Exercise 2: Create markdown cell with title of the notebook\n",
    "[2-title.png](https://coursera-assessments.s3.amazonaws.com/assessments/1693139346720/f5a43ddc-2757-48e9-beb5-1115a50c0c5e/2-title.png)"
   ]
  },
  {
   "cell_type": "markdown",
   "id": "c5e23236",
   "metadata": {},
   "source": [
    "## Exercise 3 - Create a markdown cell for an introduction  \n",
    "The main task of this notebook is to summarize the data science tools and ecosystem  \n",
    "[3-intro.png](https://coursera-assessments.s3.amazonaws.com/assessments/1693139251882/f39eb1cf-f720-4056-bc7b-4ea07f7cb815/3-intro.png)\n"
   ]
  },
  {
   "cell_type": "markdown",
   "id": "e43b90e7",
   "metadata": {},
   "source": [
    "## Exercise 10 - Insert a markdown cell to list Objectives\n",
    "**Objectives:**  \n",
    "* Listing data science languages  \n",
    "* Creating a markdown cell introducing arithmetic expression examples  \n",
    "* Creating a code cell to convert minutes to hours  \n",
    "\n",
    "[10-objectives.png](https://coursera-assessments.s3.amazonaws.com/assessments/1693137739370/7e1e7f6f-72da-40f5-aab2-7d241b07b714/10-objectives.png)"
   ]
  },
  {
   "cell_type": "markdown",
   "id": "0d9552f9",
   "metadata": {},
   "source": [
    "## Exercise 4 - Create a markdown cell to list data science languages\n",
    "Some of the popular languages that Data Scientists use are:  \n",
    "1. Java  \n",
    "2. Python  \n",
    "3. C++  \n",
    "\n",
    "[4-dslanguages.png](https://coursera-assessments.s3.amazonaws.com/assessments/1693140612454/ab0b2663-e889-4817-ae94-bb98f153f89b/4-dslanguages.png)"
   ]
  },
  {
   "cell_type": "markdown",
   "id": "7e504505",
   "metadata": {},
   "source": [
    "## Exercise 5 - Create a markdown cell to list data science libraries  \n",
    "Some of the commonly used libraries used by Data Scientists include:  \n",
    "1. Pandas  \n",
    "2. Numby  \n",
    "3. Matplotlib  \n",
    "\n",
    "[5-dslibraries.png](https://coursera-assessments.s3.amazonaws.com/assessments/1693140638631/25c237d5-d5f1-4752-9d44-769406cd921c/5-dslibraries.png)\n",
    "    "
   ]
  },
  {
   "cell_type": "markdown",
   "id": "66e1ed9f",
   "metadata": {},
   "source": [
    "## Exercise 6 - Create a markdown cell with a table of Data Science tools  \n",
    "|Data Science Tools|\n",
    "-----------------------------\n",
    "|Jupeter notebooks|\n",
    "|R studio|\n",
    "|GitHub|\n",
    "\n",
    "\n",
    "[6-dstools.png](https://coursera-assessments.s3.amazonaws.com/assessments/1693140652567/e0a66570-1771-4493-8e17-615bd3cad73e/6-dstools.png)\n",
    "\n",
    "\n"
   ]
  },
  {
   "cell_type": "markdown",
   "id": "9dcc63b4",
   "metadata": {},
   "source": [
    "## Exercise 7 - Create a markdown cell introducing arithmetic expression examples  \n",
    "### Below are a few examples of evaluating arithmetic expressions in Python  \n",
    "[7-introarithmetic.png](https://coursera-assessments.s3.amazonaws.com/assessments/1693138068673/1daed400-b558-4465-80a2-1161eeb92601/7-introarritmetic.png)"
   ]
  },
  {
   "cell_type": "markdown",
   "id": "901b62f6",
   "metadata": {},
   "source": [
    "## Exercise 8 - Create a code cell to multiply and add numbers  "
   ]
  },
  {
   "cell_type": "code",
   "execution_count": 2,
   "id": "e349c76c",
   "metadata": {},
   "outputs": [
    {
     "data": {
      "text/plain": [
       "17"
      ]
     },
     "execution_count": 2,
     "metadata": {},
     "output_type": "execute_result"
    }
   ],
   "source": [
    "#This a simple arithmetic expression to mutiply then add integers\n",
    "(3*4)+5"
   ]
  },
  {
   "cell_type": "markdown",
   "id": "d0f78d15",
   "metadata": {},
   "source": [
    "[8-multiplyandaddintegers.png](https://coursera-assessments.s3.amazonaws.com/assessments/1693137976297/8348c69e-ecdb-40cb-b498-6dfe8839aadf/8-multiplyandaddingintegers.png)"
   ]
  },
  {
   "cell_type": "markdown",
   "id": "9e5a25d5",
   "metadata": {},
   "source": [
    "## Exercise 9 - Create a code cell to convert minutes to hours"
   ]
  },
  {
   "cell_type": "code",
   "execution_count": 3,
   "id": "2fe5bb0c",
   "metadata": {},
   "outputs": [
    {
     "name": "stdout",
     "output_type": "stream",
     "text": [
      "3.3333333333333335\n"
     ]
    }
   ],
   "source": [
    "# This will convert 200 minutes to hours by diving by 60\n",
    "m=200\n",
    "h=m/60\n",
    "print(h)"
   ]
  },
  {
   "cell_type": "markdown",
   "id": "5f8e3bfa",
   "metadata": {},
   "source": [
    "[9-hourstominutes.png](https://coursera-assessments.s3.amazonaws.com/assessments/1693137830822/1dd75d64-252c-419f-bc04-4a17503ad1fa/9-hourstominutes.png)"
   ]
  },
  {
   "cell_type": "markdown",
   "id": "5b15ecca",
   "metadata": {},
   "source": [
    "## Exercise 11 - Create a markdown cell to indicate the Author's name  \n",
    "## Inès Ben Dkhil\n",
    "[11-authordetails.png](https://coursera-assessments.s3.amazonaws.com/assessments/1693137656592/b1e14167-7228-4849-bf51-1c8e05e891f9/11-authordetails.png)"
   ]
  },
  {
   "cell_type": "code",
   "execution_count": null,
   "id": "05ae41ed",
   "metadata": {},
   "outputs": [],
   "source": []
  }
 ],
 "metadata": {
  "kernelspec": {
   "display_name": "Python 3 (ipykernel)",
   "language": "python",
   "name": "python3"
  },
  "language_info": {
   "codemirror_mode": {
    "name": "ipython",
    "version": 3
   },
   "file_extension": ".py",
   "mimetype": "text/x-python",
   "name": "python",
   "nbconvert_exporter": "python",
   "pygments_lexer": "ipython3",
   "version": "3.11.4"
  }
 },
 "nbformat": 4,
 "nbformat_minor": 5
}
