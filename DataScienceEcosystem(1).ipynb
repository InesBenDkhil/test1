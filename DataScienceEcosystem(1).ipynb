{
 "cells": [
  {
   "cell_type": "markdown",
   "id": "40c47038",
   "metadata": {},
   "source": [
    "# Data Science Tools and Ecosystem"
   ]
  },
  {
   "cell_type": "markdown",
   "id": "3fee2c11",
   "metadata": {},
   "source": [
    "## Exercise 1: Create a Jupyter Notebook"
   ]
  },
  {
   "cell_type": "markdown",
   "id": "8581e245",
   "metadata": {},
   "source": [
    "## Exercise 2: Create markdown cell with title of the notebook\n",
    "[2-title.png](https://www.facebook.com/photo/?fbid=2207488532775967&set=a.319627041562135)"
   ]
  },
  {
   "cell_type": "markdown",
   "id": "db870ca9",
   "metadata": {},
   "source": [
    "## Exercise 3 - Create a markdown cell for an introduction  \n",
    "The main task of this notebook is to summarize the data science tools and ecosystem  \n",
    "[3-intro.png](blob:moz-extension://898fdbe7-31fb-4852-95be-3dc751c231fe/00a14ede-e302-4837-a92d-32fc649c6546)\n"
   ]
  },
  {
   "cell_type": "markdown",
   "id": "7563ef54",
   "metadata": {},
   "source": [
    "## Exercise 10 - Insert a markdown cell to list Objectives\n",
    "**Objectives:**  \n",
    "* Listing data science languages  \n",
    "* Creating a markdown cell introducing arithmetic expression examples  \n",
    "* Creating a code cell to convert minutes to hours  \n",
    "\n",
    "[10-objectives.png](blob:moz-extension://898fdbe7-31fb-4852-95be-3dc751c231fe/25903f99-fd5b-4c4b-a7df-6c4d899dec33)"
   ]
  },
  {
   "cell_type": "markdown",
   "id": "08495636",
   "metadata": {},
   "source": [
    "## Exercise 4 - Create a markdown cell to list data science languages\n",
    "Some of the popular languages that Data Scientists use are:  \n",
    "1. Java  \n",
    "2. Python  \n",
    "3. C++  \n",
    "\n",
    "[4-dslanguages.png](https://www.facebook.com/photo/?fbid=2207515956106558&set=a.319627041562135)"
   ]
  },
  {
   "cell_type": "markdown",
   "id": "483b2a3c",
   "metadata": {},
   "source": [
    "## Exercise 5 - Create a markdown cell to list data science libraries  \n",
    "Some of the commonly used libraries used by Data Scientists include:  \n",
    "1. Pandas  \n",
    "2. Numby  \n",
    "3. Matplotlib  \n",
    "\n",
    "[5-dslibraries.png](blob:moz-extension://898fdbe7-31fb-4852-95be-3dc751c231fe/b7531fd5-3f5b-4a25-9fc4-6e965a7aaadd)\n",
    "    "
   ]
  },
  {
   "cell_type": "markdown",
   "id": "7f1d6525",
   "metadata": {},
   "source": [
    "## Exercise 6 - Create a markdown cell with a table of Data Science tools  \n",
    "|Data Science Tools|\n",
    "-----------------------------\n",
    "|Jupeter notebooks|\n",
    "|R studio|\n",
    "|GitHub|\n",
    "\n",
    "\n",
    "[6-dstools.png](blob:moz-extension://898fdbe7-31fb-4852-95be-3dc751c231fe/7478fe17-106d-431b-9a5f-7ded0b5a6da0)\n",
    "\n",
    "\n"
   ]
  },
  {
   "cell_type": "markdown",
   "id": "dbff5dce",
   "metadata": {},
   "source": [
    "## Exercise 7 - Create a markdown cell introducing arithmetic expression examples  \n",
    "### Below are a few examples of evaluating arithmetic expressions in Python  \n",
    "[7-introarithmetic.png](blob:moz-extension://898fdbe7-31fb-4852-95be-3dc751c231fe/e49f9da0-d48f-46ba-8187-6d3f6843aebb)"
   ]
  },
  {
   "cell_type": "markdown",
   "id": "96c59a47",
   "metadata": {},
   "source": [
    "## Exercise 8 - Create a code cell to multiply and add numbers  "
   ]
  },
  {
   "cell_type": "code",
   "execution_count": 2,
   "id": "31007cc5",
   "metadata": {},
   "outputs": [
    {
     "data": {
      "text/plain": [
       "17"
      ]
     },
     "execution_count": 2,
     "metadata": {},
     "output_type": "execute_result"
    }
   ],
   "source": [
    "#This a simple arithmetic expression to mutiply then add integers\n",
    "(3*4)+5"
   ]
  },
  {
   "cell_type": "markdown",
   "id": "16862289",
   "metadata": {},
   "source": [
    "[8-multiplyandaddintegers.png](blob:moz-extension://898fdbe7-31fb-4852-95be-3dc751c231fe/d6950cbf-a206-417c-aeef-80b14e63717c)"
   ]
  },
  {
   "cell_type": "markdown",
   "id": "6008b705",
   "metadata": {},
   "source": [
    "## Exercise 9 - Create a code cell to convert minutes to hours"
   ]
  },
  {
   "cell_type": "code",
   "execution_count": 3,
   "id": "65b1c406",
   "metadata": {},
   "outputs": [
    {
     "name": "stdout",
     "output_type": "stream",
     "text": [
      "3.3333333333333335\n"
     ]
    }
   ],
   "source": [
    "# This will convert 200 minutes to hours by diving by 60\n",
    "m=200\n",
    "h=m/60\n",
    "print(h)"
   ]
  },
  {
   "cell_type": "markdown",
   "id": "43011b07",
   "metadata": {},
   "source": [
    "[9-hourstominutes.png](blob:moz-extension://898fdbe7-31fb-4852-95be-3dc751c231fe/b45db079-fc84-4db8-8626-af22a14afef8)"
   ]
  },
  {
   "cell_type": "markdown",
   "id": "10cb654e",
   "metadata": {},
   "source": [
    "## Exercise 11 - Create a markdown cell to indicate the Author's name  \n",
    "## Inès Ben Dkhil\n",
    "[11-authordetails.png](blob:moz-extension://898fdbe7-31fb-4852-95be-3dc751c231fe/58b90346-0fb5-48c6-b914-a5f1274779e3)"
   ]
  },
  {
   "cell_type": "code",
   "execution_count": null,
   "id": "e44bc1ba",
   "metadata": {},
   "outputs": [],
   "source": []
  }
 ],
 "metadata": {
  "kernelspec": {
   "display_name": "Python 3 (ipykernel)",
   "language": "python",
   "name": "python3"
  },
  "language_info": {
   "codemirror_mode": {
    "name": "ipython",
    "version": 3
   },
   "file_extension": ".py",
   "mimetype": "text/x-python",
   "name": "python",
   "nbconvert_exporter": "python",
   "pygments_lexer": "ipython3",
   "version": "3.11.4"
  }
 },
 "nbformat": 4,
 "nbformat_minor": 5
}
